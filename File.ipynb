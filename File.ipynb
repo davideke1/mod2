{
  "nbformat": 4,
  "nbformat_minor": 0,
  "metadata": {
    "colab": {
      "name": "File.ipynb",
      "provenance": [],
      "collapsed_sections": []
    },
    "kernelspec": {
      "name": "python3",
      "display_name": "Python 3"
    },
    "language_info": {
      "name": "python"
    }
  },
  "cells": [
    {
      "cell_type": "markdown",
      "source": [
        "**PROGRAM 1**\n",
        "# read an entire text file"
      ],
      "metadata": {
        "id": "HDFzP7vMibwL"
      }
    },
    {
      "cell_type": "code",
      "execution_count": null,
      "metadata": {
        "colab": {
          "base_uri": "https://localhost:8080/"
        },
        "id": "Bm-eBSUqQCOw",
        "outputId": "2db6f51d-9224-4f71-bc4e-43bc9394cfc0"
      },
      "outputs": [
        {
          "output_type": "stream",
          "name": "stdout",
          "text": [
            "Ekechukwu David UZoma\n",
            "HU21EECE0100315\n",
            "\n",
            "Hello world i love to program\n",
            "My name is david ekechukwu, Mr kiran is the best python teacher.\n"
          ]
        }
      ],
      "source": [
        "print(\"Ekechukwu David UZoma\")\n",
        "print(\"HU21EECE0100315\\n\")\n",
        "\n",
        "#read an entire text file\n",
        "f = open(\"first1.txt\", \"w\")\n",
        "f.write(\"Hello world i love to program\\n\")\n",
        "f.write(\"My name is david ekechukwu, Mr kiran is the best python teacher.\")\n",
        "f = open(\"first1.txt\",\"r\")\n",
        "print(f.read())\n",
        "f.close()"
      ]
    },
    {
      "cell_type": "markdown",
      "source": [
        "**PROGRAM 2**\n",
        "# read the first n lines of a file."
      ],
      "metadata": {
        "id": "h_ah-YqPiqLB"
      }
    },
    {
      "cell_type": "code",
      "source": [
        "print(\"Ekechukwu David UZoma\")\n",
        "print(\"HU21EECE0100315\\n\")\n",
        "#read the first n lines of a file.\n",
        "n = int(input(\"Enter number of lines you want ---> \"))\n",
        "a=[\"how is your day going\",\"\\nCurtains forcing their will\",\n",
        "   \"\\nagainst the wind,\",\"\\nchildren sleep,\",\"\\nexchanging dreams with\",\n",
        "   \"\\nseraphim. The city\",\"\\ndrags itself awake on\",\"\\nsubway straps; and\",\n",
        "   \"\\nI, an alarm, awake as a boy.\"]\n",
        "f = open(\"file2.txt\",\"w\")\n",
        "f.writelines(a)\n",
        "f.close()\n",
        "count = 0\n",
        "f = open(\"file2.txt\",\"r\")\n",
        "for i in f.readlines():\n",
        "    count += 1\n",
        "    print(i)\n",
        "    if count == n:\n",
        "        break\n",
        "f.close()\n"
      ],
      "metadata": {
        "colab": {
          "base_uri": "https://localhost:8080/"
        },
        "id": "54u3uQhkQ9kh",
        "outputId": "7d163816-99ec-40e7-b19c-795ca3b843cc"
      },
      "execution_count": null,
      "outputs": [
        {
          "output_type": "stream",
          "name": "stdout",
          "text": [
            "Ekechukwu David UZoma\n",
            "HU21EECE0100315\n",
            "\n",
            "Enter number of lines you want ---> 6\n",
            "how is your day going\n",
            "\n",
            "Curtains forcing their will\n",
            "\n",
            "against the wind,\n",
            "\n",
            "children sleep,\n",
            "\n",
            "exchanging dreams with\n",
            "\n",
            "seraphim. The city\n",
            "\n"
          ]
        }
      ]
    },
    {
      "cell_type": "markdown",
      "source": [
        "**PROGRAM 3**\n",
        "# append text to a file and display the text."
      ],
      "metadata": {
        "id": "4HGck44gizMa"
      }
    },
    {
      "cell_type": "code",
      "source": [
        "print(\"Ekechukwu David UZoma\")\n",
        "print(\"HU21EECE0100315\\n\")\n",
        "#append text to a file and display the text.\n",
        "#writing randoms text to the text file\n",
        "a=[\"Hello World!!\",\"\\nHow are you doing?\",\"\\nGood morning.\"]\n",
        "f = open(\"file3.txt\",\"w\")\n",
        "f.writelines(a)\n",
        "f.close()\n",
        "# collecting the value to be appended to the text file\n",
        "n = input(\"Enter text to be appended --> \")\n",
        "f = open(\"file3.txt\",\"a\")\n",
        "f.write(\"\\n\"+n)\n",
        "f.close()\n",
        "f = open(\"file3.txt\", 'r')\n",
        "print(f.read())\n",
        "f.close()"
      ],
      "metadata": {
        "colab": {
          "base_uri": "https://localhost:8080/"
        },
        "id": "2s3dGW5bQ94L",
        "outputId": "bfc6191e-9fbf-4c85-c43c-ac95aecd6063"
      },
      "execution_count": null,
      "outputs": [
        {
          "output_type": "stream",
          "name": "stdout",
          "text": [
            "Ekechukwu David UZoma\n",
            "HU21EECE0100315\n",
            "\n",
            "Enter text to be appended --> i love coding in pythonn and C\n",
            "Hello World!!\n",
            "How are you doing?\n",
            "Good morning.\n",
            "i love coding in pythonn and C\n"
          ]
        }
      ]
    },
    {
      "cell_type": "markdown",
      "source": [
        "**PROGRAM 4**\n",
        "# Read numbers from a file and write even and odd numbers to separate files."
      ],
      "metadata": {
        "id": "ycmT6qMOi3hn"
      }
    },
    {
      "cell_type": "code",
      "source": [
        "print(\"Ekechukwu David UZoma\")\n",
        "print(\"HU21EECE0100315\\n\")\n",
        "#Read numbers from a file and write even and odd numbers to separate files.\n",
        "f = open(\"file4.txt\", 'w')\n",
        "a= [\"1\",\"\\n2\",\"\\n3\",\"\\n4\",\"\\n5\",\"\\n6\",\"\\n7\",\"\\n8\",\"\\n9\",\"\\n10\"]\n",
        "f.writelines(a)\n",
        "f.close()\n",
        "e = open(\"even.txt\",\"w\")\n",
        "o = open(\"odd.txt\", \"w\")\n",
        "\n",
        "f = open(\"file4.txt\",\"r\")\n",
        "for i in f.readlines():\n",
        "    l =int(i)\n",
        "    if (l%2 == 0):\n",
        "        e = open(\"even.txt\", 'a')\n",
        "        e.write(str(l)+'\\n')\n",
        "    else:\n",
        "        o = open(\"odd.txt\", 'a')\n",
        "        o.write(str(l)+ '\\n')\n",
        "f.close()\n",
        "e.close()\n",
        "o.close()\n",
        "\n",
        "e = open(\"even.txt\",\"r\")\n",
        "o = open(\"odd.txt\", \"r\")\n",
        "# code for printing the even numbers from the text file\n",
        "print(\"printing even from even.txt\")\n",
        "for i in e.readlines():\n",
        "  print(i)\n",
        "\n",
        "# code for printing the odd numbers from the text file\n",
        "print(\"printing odd from odd.txt\")\n",
        "for j in o.readlines():\n",
        "  print(j)\n",
        "e.close()\n",
        "o.close()"
      ],
      "metadata": {
        "colab": {
          "base_uri": "https://localhost:8080/"
        },
        "id": "KJoXtlklQ-IA",
        "outputId": "9492a7b8-9843-4c95-898c-1192ff93f860"
      },
      "execution_count": null,
      "outputs": [
        {
          "output_type": "stream",
          "name": "stdout",
          "text": [
            "Ekechukwu David UZoma\n",
            "HU21EECE0100315\n",
            "\n",
            "printing even from even.txt\n",
            "2\n",
            "\n",
            "4\n",
            "\n",
            "6\n",
            "\n",
            "8\n",
            "\n",
            "10\n",
            "\n",
            "printing odd from odd.txt\n",
            "1\n",
            "\n",
            "3\n",
            "\n",
            "5\n",
            "\n",
            "7\n",
            "\n",
            "9\n",
            "\n"
          ]
        }
      ]
    },
    {
      "cell_type": "markdown",
      "source": [
        "**PRGRAM 5**\n",
        "# Count characters, words and lines in a text file."
      ],
      "metadata": {
        "id": "ubQLnX88i6Y_"
      }
    },
    {
      "cell_type": "code",
      "source": [
        "print(\"Ekechukwu David UZoma\")\n",
        "print(\"HU21EECE0100315\\n\")\n",
        "#Count characters, words and lines in a text file.\n",
        "a = [\n",
        "\"Hello world i love to program\",\"\\nMy name is david ekechukwu, Mr kiran is the best python teacher\"\n",
        ",\"\\nhow is your day going\",\"\\nCurtains forcing their will\",\"\\nagainst the wind,\",\"\\nchildren sleep,\"\n",
        ",\"\\nexchanging dreams with\"\n",
        ",\"\\nseraphim. The city\",\"\\ndrags itself awake on\",\"\\nsubway straps; and\",\"\\nI, an alarm, awake as a\",\n",
        "\"\\nrumor of war\",\"\\online stretching into dawn\",\"\\nunasked and unheeded.\"]\n",
        "\n",
        "#writing random text to the text files\n",
        "f = open(\"file5.txt\",\"w\")\n",
        "f.writelines(a)\n",
        "f.close()\n",
        "\n",
        "#counting number of lines\n",
        "count_lines = 0\n",
        "f = open(\"file5.txt\", \"r\")\n",
        "for lines in f.readlines():\n",
        "    count_lines+=1\n",
        "print(f\"the numbers of lines in the text file is {count_lines}\")\n",
        "f.close()\n",
        "\n",
        "#counting number of characters\n",
        "f = open(\"file5.txt\", \"r\")\n",
        "count_char = 0\n",
        "for i in f.readlines():\n",
        "    count_char += len(i)\n",
        "print(f\"Numbers of characters in text file is {count_char}\")\n",
        "f.close()\n",
        "\n",
        "#counting numbers of words\n",
        "f = open(\"file5.txt\", \"r\")\n",
        "count_word = 0\n",
        "for i in f.readlines():\n",
        "    k = i.split()\n",
        "    for s in k:\n",
        "        count_word += 1\n",
        "print(f\"Numbers of words in text file is {count_word}\")\n",
        "\n"
      ],
      "metadata": {
        "colab": {
          "base_uri": "https://localhost:8080/"
        },
        "id": "7RFygrixQ-VO",
        "outputId": "a2aa6ff7-c28d-43d6-87b4-f89b2bb10f4d"
      },
      "execution_count": null,
      "outputs": [
        {
          "output_type": "stream",
          "name": "stdout",
          "text": [
            "Ekechukwu David UZoma\n",
            "HU21EECE0100315\n",
            "\n",
            "the numbers of lines in the text file is 13\n",
            "Numbers of characters in text file is 347\n",
            "Numbers of words in text file is 60\n"
          ]
        }
      ]
    },
    {
      "cell_type": "markdown",
      "source": [
        "**PROGRAM 6**\n",
        "# To write a list to a file."
      ],
      "metadata": {
        "id": "ftuulfX5nJrH"
      }
    },
    {
      "cell_type": "code",
      "source": [
        "print(\"Ekechukwu David UZoma\")\n",
        "print(\"HU21EECE0100315\\n\")\n",
        "# reading a list to a file\n",
        "\n",
        "a = [\n",
        "\"Hello world i love to program\",\"\\nMy name is david ekechukwu, Mr kiran is the best python teacher\"\n",
        ",\"\\nhow is your day going\",\"\\nCurtains forcing their will\",\"\\nagainst the wind,\",\"\\nchildren sleep,\"\n",
        ",\"\\nexchanging dreams with\"\n",
        ",\"\\nseraphim. The city\",\"\\ndrags itself awake on\",\"\\nsubway straps; and\",\"\\nI, an alarm, awake as a\",\n",
        "\"\\nrumor of war\",\"\\online stretching into dawn\",\"\\nunasked and unheeded.\"]\n",
        "\n",
        "f=open(\"file6.txt\",\"w\")\n",
        "f.writelines(a)\n",
        "f.close()\n",
        "\n",
        "f=open(\"file6.txt\",\"r\")\n",
        "for i in f.readlines():\n",
        "    print(i)"
      ],
      "metadata": {
        "colab": {
          "base_uri": "https://localhost:8080/"
        },
        "id": "pgdJa4FXmpGq",
        "outputId": "936b1441-c73c-4f1e-c26d-d85885cd9173"
      },
      "execution_count": null,
      "outputs": [
        {
          "output_type": "stream",
          "name": "stdout",
          "text": [
            "Ekechukwu David UZoma\n",
            "HU21EECE0100315\n",
            "\n",
            "Hello world i love to program\n",
            "\n",
            "My name is david ekechukwu, Mr kiran is the best python teacher\n",
            "\n",
            "how is your day going\n",
            "\n",
            "Curtains forcing their will\n",
            "\n",
            "against the wind,\n",
            "\n",
            "children sleep,\n",
            "\n",
            "exchanging dreams with\n",
            "\n",
            "seraphim. The city\n",
            "\n",
            "drags itself awake on\n",
            "\n",
            "subway straps; and\n",
            "\n",
            "I, an alarm, awake as a\n",
            "\n",
            "rumor of war\\online stretching into dawn\n",
            "\n",
            "unasked and unheeded.\n"
          ]
        }
      ]
    },
    {
      "cell_type": "markdown",
      "source": [
        "**PROGRAM 7**\n",
        "# Checking palidrome string in a text file"
      ],
      "metadata": {
        "id": "Ajs_lNf0jCaj"
      }
    },
    {
      "cell_type": "code",
      "source": [
        "print(\"Ekechukwu David UZoma\")\n",
        "print(\"HU21EECE0100315\\n\")\n",
        "# Checking palidrome string in a text file\n",
        "a=[\"how is your day going dad\",\"\\nCurtains forcing their will mom\",\n",
        "   \"\\nagainst the wind noon,\",\"\\nchildren sleep repaper,\",\"\\nexchanging dreams with racecar\",\n",
        "   \"\\nseraphim. The city tenet\",\"\\ndrags itself awake on cast and goat stats\",\"\\nsubway straps; and sagas\",\n",
        "   \"\\nI, an alarm, awake as a boy saippuakivikauppias\"]\n",
        "\n",
        "# passing in a list to write to the files\n",
        "f = open(\"file9.txt\", \"w\")\n",
        "f.writelines(a)\n",
        "f.close()\n",
        "\n",
        "#reading the text files\n",
        "f = open(\"file9.txt\", \"r\")\n",
        "count_word = 0\n",
        "for i in f.readlines():\n",
        "    k = i.split()\n",
        "    for s in k:\n",
        "        st = reversed(s)\n",
        "        if list(st)==list(s):\n",
        "            print(s)\n",
        "f.close()"
      ],
      "metadata": {
        "colab": {
          "base_uri": "https://localhost:8080/"
        },
        "id": "UXEOD72mQ-ir",
        "outputId": "986bfb27-d095-4826-e339-3d5a6af99852"
      },
      "execution_count": null,
      "outputs": [
        {
          "output_type": "stream",
          "name": "stdout",
          "text": [
            "Ekechukwu David UZoma\n",
            "HU21EECE0100315\n",
            "\n",
            "dad\n",
            "mom\n",
            "racecar\n",
            "tenet\n",
            "stats\n",
            "sagas\n",
            "a\n",
            "saippuakivikauppias\n"
          ]
        }
      ]
    },
    {
      "cell_type": "markdown",
      "source": [
        "**PROGRAM 8**\n",
        "# printing &counting words with length 4 in a text file"
      ],
      "metadata": {
        "id": "nuH5iSG4jFe1"
      }
    },
    {
      "cell_type": "code",
      "source": [
        "print(\"Ekechukwu David UZoma\")\n",
        "print(\"HU21EECE0100315\\n\")\n",
        "#printing &counting words with length 4 in a text file\n",
        "\n",
        "a=[\"how is your day going\",\"\\nCurtains forcing their will\",\n",
        "   \"\\nagainst the wind,\",\"\\nchildren sleep,\",\"\\nexchanging dreams with\",\n",
        "   \"\\nseraphim. The city\",\"\\ndrags itself awake on cast and goat\",\"\\nsubway straps; and\",\n",
        "   \"\\nI, an alarm, awake as a boy .\"]\n",
        "# passing in a list to write to the files\n",
        "f = open(\"file8.txt\", \"w\")\n",
        "f.writelines(a)\n",
        "f.close()\n",
        "#reading the text files\n",
        "count = 0\n",
        "f = open(\"file8.txt\", \"r\")\n",
        "for i in f.readlines():\n",
        "    k = i.split()\n",
        "    for s in k:\n",
        "        if len(s) == 4:\n",
        "            print(s, end=\" \")\n",
        "            count +=1\n",
        "print(f\"\\nNumber of words length 4 are --> {count}\")\n",
        "f.close()"
      ],
      "metadata": {
        "colab": {
          "base_uri": "https://localhost:8080/"
        },
        "id": "-DXE2UX4Q-vf",
        "outputId": "e1d73242-e564-462b-e646-a9a7b72caf71"
      },
      "execution_count": null,
      "outputs": [
        {
          "output_type": "stream",
          "name": "stdout",
          "text": [
            "Ekechukwu David UZoma\n",
            "HU21EECE0100315\n",
            "\n",
            "your will with city cast goat \n",
            "Number of words length 4 are --> 6\n"
          ]
        }
      ]
    },
    {
      "cell_type": "markdown",
      "source": [
        "**PROGRAM 9**\n",
        "# **printing and counting the digit in a text file**"
      ],
      "metadata": {
        "id": "vPSArWlWjIqK"
      }
    },
    {
      "cell_type": "code",
      "source": [
        "print(\"Ekechukwu David UZoma\")\n",
        "print(\"HU21EECE0100315\\n\")\n",
        "#printing and counting the digit in a text file\n",
        "f=open(\"digit.txt\",\"w\")\n",
        "f.write(\"9 foot 4 \\n\")\n",
        "f.write(\"she my ride or die\")\n",
        "f.write(\"1 is before 2 so as 3\")\n",
        "f.close()\n",
        "\n",
        "f=open(\"digit.txt\",\"r\")\n",
        "c=0\n",
        "for line in f.readlines():\n",
        "    for i in list(line):\n",
        "        if i.isdigit():\n",
        "            print(i, end =\" \")\n",
        "            c+=1\n",
        "print(f\"\\nThe no of digits in text file {c}\")"
      ],
      "metadata": {
        "colab": {
          "base_uri": "https://localhost:8080/"
        },
        "id": "krItpt5wQ--c",
        "outputId": "b50df667-2380-436d-b9ef-ceabf0022576"
      },
      "execution_count": null,
      "outputs": [
        {
          "output_type": "stream",
          "name": "stdout",
          "text": [
            "Ekechukwu David UZoma\n",
            "HU21EECE0100315\n",
            "\n",
            "9 4 1 2 3 \n",
            "The no of digits in text file 5\n"
          ]
        }
      ]
    }
  ]
}